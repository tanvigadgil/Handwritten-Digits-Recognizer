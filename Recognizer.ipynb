{
 "cells": [
  {
   "cell_type": "markdown",
   "metadata": {},
   "source": [
    "# HANDWRITTEN DIGITS RECOGNIZER"
   ]
  },
  {
   "cell_type": "markdown",
   "metadata": {},
   "source": [
    "### Import Libraries"
   ]
  },
  {
   "cell_type": "code",
   "execution_count": 1,
   "metadata": {},
   "outputs": [],
   "source": [
    "from sklearn.datasets import fetch_openml\n",
    "from sklearn.model_selection import train_test_split\n",
    "from sklearn.neural_network import MLPClassifier\n",
    "from sklearn.metrics import accuracy_score\n",
    "import numpy as np\n",
    "import pandas as pd\n",
    "import matplotlib.pyplot as plt\n",
    "import pickle"
   ]
  },
  {
   "cell_type": "markdown",
   "metadata": {},
   "source": [
    "### Load Dataset"
   ]
  },
  {
   "cell_type": "code",
   "execution_count": 2,
   "metadata": {},
   "outputs": [
    {
     "data": {
      "text/plain": [
       "sklearn.utils.Bunch"
      ]
     },
     "execution_count": 2,
     "metadata": {},
     "output_type": "execute_result"
    }
   ],
   "source": [
    "data = fetch_openml('mnist_784')\n",
    "type(data)"
   ]
  },
  {
   "cell_type": "code",
   "execution_count": 3,
   "metadata": {},
   "outputs": [
    {
     "data": {
      "text/html": [
       "<div>\n",
       "<style scoped>\n",
       "    .dataframe tbody tr th:only-of-type {\n",
       "        vertical-align: middle;\n",
       "    }\n",
       "\n",
       "    .dataframe tbody tr th {\n",
       "        vertical-align: top;\n",
       "    }\n",
       "\n",
       "    .dataframe thead th {\n",
       "        text-align: right;\n",
       "    }\n",
       "</style>\n",
       "<table border=\"1\" class=\"dataframe\">\n",
       "  <thead>\n",
       "    <tr style=\"text-align: right;\">\n",
       "      <th></th>\n",
       "      <th>pixel1</th>\n",
       "      <th>pixel2</th>\n",
       "      <th>pixel3</th>\n",
       "      <th>pixel4</th>\n",
       "      <th>pixel5</th>\n",
       "      <th>pixel6</th>\n",
       "      <th>pixel7</th>\n",
       "      <th>pixel8</th>\n",
       "      <th>pixel9</th>\n",
       "      <th>pixel10</th>\n",
       "      <th>...</th>\n",
       "      <th>pixel776</th>\n",
       "      <th>pixel777</th>\n",
       "      <th>pixel778</th>\n",
       "      <th>pixel779</th>\n",
       "      <th>pixel780</th>\n",
       "      <th>pixel781</th>\n",
       "      <th>pixel782</th>\n",
       "      <th>pixel783</th>\n",
       "      <th>pixel784</th>\n",
       "      <th>target</th>\n",
       "    </tr>\n",
       "  </thead>\n",
       "  <tbody>\n",
       "    <tr>\n",
       "      <th>0</th>\n",
       "      <td>0.0</td>\n",
       "      <td>0.0</td>\n",
       "      <td>0.0</td>\n",
       "      <td>0.0</td>\n",
       "      <td>0.0</td>\n",
       "      <td>0.0</td>\n",
       "      <td>0.0</td>\n",
       "      <td>0.0</td>\n",
       "      <td>0.0</td>\n",
       "      <td>0.0</td>\n",
       "      <td>...</td>\n",
       "      <td>0.0</td>\n",
       "      <td>0.0</td>\n",
       "      <td>0.0</td>\n",
       "      <td>0.0</td>\n",
       "      <td>0.0</td>\n",
       "      <td>0.0</td>\n",
       "      <td>0.0</td>\n",
       "      <td>0.0</td>\n",
       "      <td>0.0</td>\n",
       "      <td>5</td>\n",
       "    </tr>\n",
       "    <tr>\n",
       "      <th>1</th>\n",
       "      <td>0.0</td>\n",
       "      <td>0.0</td>\n",
       "      <td>0.0</td>\n",
       "      <td>0.0</td>\n",
       "      <td>0.0</td>\n",
       "      <td>0.0</td>\n",
       "      <td>0.0</td>\n",
       "      <td>0.0</td>\n",
       "      <td>0.0</td>\n",
       "      <td>0.0</td>\n",
       "      <td>...</td>\n",
       "      <td>0.0</td>\n",
       "      <td>0.0</td>\n",
       "      <td>0.0</td>\n",
       "      <td>0.0</td>\n",
       "      <td>0.0</td>\n",
       "      <td>0.0</td>\n",
       "      <td>0.0</td>\n",
       "      <td>0.0</td>\n",
       "      <td>0.0</td>\n",
       "      <td>0</td>\n",
       "    </tr>\n",
       "    <tr>\n",
       "      <th>2</th>\n",
       "      <td>0.0</td>\n",
       "      <td>0.0</td>\n",
       "      <td>0.0</td>\n",
       "      <td>0.0</td>\n",
       "      <td>0.0</td>\n",
       "      <td>0.0</td>\n",
       "      <td>0.0</td>\n",
       "      <td>0.0</td>\n",
       "      <td>0.0</td>\n",
       "      <td>0.0</td>\n",
       "      <td>...</td>\n",
       "      <td>0.0</td>\n",
       "      <td>0.0</td>\n",
       "      <td>0.0</td>\n",
       "      <td>0.0</td>\n",
       "      <td>0.0</td>\n",
       "      <td>0.0</td>\n",
       "      <td>0.0</td>\n",
       "      <td>0.0</td>\n",
       "      <td>0.0</td>\n",
       "      <td>4</td>\n",
       "    </tr>\n",
       "    <tr>\n",
       "      <th>3</th>\n",
       "      <td>0.0</td>\n",
       "      <td>0.0</td>\n",
       "      <td>0.0</td>\n",
       "      <td>0.0</td>\n",
       "      <td>0.0</td>\n",
       "      <td>0.0</td>\n",
       "      <td>0.0</td>\n",
       "      <td>0.0</td>\n",
       "      <td>0.0</td>\n",
       "      <td>0.0</td>\n",
       "      <td>...</td>\n",
       "      <td>0.0</td>\n",
       "      <td>0.0</td>\n",
       "      <td>0.0</td>\n",
       "      <td>0.0</td>\n",
       "      <td>0.0</td>\n",
       "      <td>0.0</td>\n",
       "      <td>0.0</td>\n",
       "      <td>0.0</td>\n",
       "      <td>0.0</td>\n",
       "      <td>1</td>\n",
       "    </tr>\n",
       "    <tr>\n",
       "      <th>4</th>\n",
       "      <td>0.0</td>\n",
       "      <td>0.0</td>\n",
       "      <td>0.0</td>\n",
       "      <td>0.0</td>\n",
       "      <td>0.0</td>\n",
       "      <td>0.0</td>\n",
       "      <td>0.0</td>\n",
       "      <td>0.0</td>\n",
       "      <td>0.0</td>\n",
       "      <td>0.0</td>\n",
       "      <td>...</td>\n",
       "      <td>0.0</td>\n",
       "      <td>0.0</td>\n",
       "      <td>0.0</td>\n",
       "      <td>0.0</td>\n",
       "      <td>0.0</td>\n",
       "      <td>0.0</td>\n",
       "      <td>0.0</td>\n",
       "      <td>0.0</td>\n",
       "      <td>0.0</td>\n",
       "      <td>9</td>\n",
       "    </tr>\n",
       "  </tbody>\n",
       "</table>\n",
       "<p>5 rows × 785 columns</p>\n",
       "</div>"
      ],
      "text/plain": [
       "   pixel1  pixel2  pixel3  pixel4  pixel5  pixel6  pixel7  pixel8  pixel9  \\\n",
       "0     0.0     0.0     0.0     0.0     0.0     0.0     0.0     0.0     0.0   \n",
       "1     0.0     0.0     0.0     0.0     0.0     0.0     0.0     0.0     0.0   \n",
       "2     0.0     0.0     0.0     0.0     0.0     0.0     0.0     0.0     0.0   \n",
       "3     0.0     0.0     0.0     0.0     0.0     0.0     0.0     0.0     0.0   \n",
       "4     0.0     0.0     0.0     0.0     0.0     0.0     0.0     0.0     0.0   \n",
       "\n",
       "   pixel10  ...  pixel776  pixel777  pixel778  pixel779  pixel780  pixel781  \\\n",
       "0      0.0  ...       0.0       0.0       0.0       0.0       0.0       0.0   \n",
       "1      0.0  ...       0.0       0.0       0.0       0.0       0.0       0.0   \n",
       "2      0.0  ...       0.0       0.0       0.0       0.0       0.0       0.0   \n",
       "3      0.0  ...       0.0       0.0       0.0       0.0       0.0       0.0   \n",
       "4      0.0  ...       0.0       0.0       0.0       0.0       0.0       0.0   \n",
       "\n",
       "   pixel782  pixel783  pixel784  target  \n",
       "0       0.0       0.0       0.0       5  \n",
       "1       0.0       0.0       0.0       0  \n",
       "2       0.0       0.0       0.0       4  \n",
       "3       0.0       0.0       0.0       1  \n",
       "4       0.0       0.0       0.0       9  \n",
       "\n",
       "[5 rows x 785 columns]"
      ]
     },
     "execution_count": 3,
     "metadata": {},
     "output_type": "execute_result"
    }
   ],
   "source": [
    "# Convert into Dataframe\n",
    "digits = pd.DataFrame(data.data, columns = data.feature_names)\n",
    "digits['target'] = data.target.astype(int)\n",
    "digits.head()\n",
    "# Shape = (70000, 785)"
   ]
  },
  {
   "cell_type": "code",
   "execution_count": 4,
   "metadata": {},
   "outputs": [
    {
     "name": "stdout",
     "output_type": "stream",
     "text": [
      "<class 'pandas.core.frame.DataFrame'>\n",
      "RangeIndex: 70000 entries, 0 to 69999\n",
      "Columns: 785 entries, pixel1 to target\n",
      "dtypes: float64(784), int32(1)\n",
      "memory usage: 419.0 MB\n"
     ]
    }
   ],
   "source": [
    "digits.info()"
   ]
  },
  {
   "cell_type": "markdown",
   "metadata": {},
   "source": [
    "### Visualize the Data"
   ]
  },
  {
   "cell_type": "code",
   "execution_count": 5,
   "metadata": {},
   "outputs": [],
   "source": [
    "# Display 16 images from the given index\n",
    "def displayDigits(index):\n",
    "    fig = plt.figure(figsize = (15, 15))\n",
    "    for i in range(16):\n",
    "        plt.subplot(4, 4, i + 1)\n",
    "        plt.imshow(data['data'][index + i].reshape(28, 28), cmap = 'binary')\n",
    "        plt.title(digits['target'][index + i])\n",
    "    plt.show()"
   ]
  },
  {
   "cell_type": "code",
   "execution_count": 6,
   "metadata": {},
   "outputs": [
    {
     "data": {
      "image/png": "[encoded data removed]",
      "text/plain": [
       "<Figure size 1080x1080 with 16 Axes>"
      ]
     },
     "metadata": {
      "needs_background": "light"
     },
     "output_type": "display_data"
    }
   ],
   "source": [
    "displayDigits(0)"
   ]
  },
  {
   "cell_type": "markdown",
   "metadata": {},
   "source": [
    "### Preparing the Input Data"
   ]
  },
  {
   "cell_type": "code",
   "execution_count": 7,
   "metadata": {},
   "outputs": [
    {
     "name": "stdout",
     "output_type": "stream",
     "text": [
      "(8000, 784)\n",
      "(8000, 10)\n"
     ]
    }
   ],
   "source": [
    "# Converting 2D image into 1D array.\n",
    "x = data['data'][:8000,:]\n",
    "y = np.zeros((len(x), 10), dtype = np.int8)\n",
    "for element in range(0, len(x)):\n",
    "    y[element, digits['target'][element]] = 1\n",
    "\n",
    "print(x.shape)\n",
    "print(y.shape)"
   ]
  },
  {
   "cell_type": "code",
   "execution_count": 8,
   "metadata": {},
   "outputs": [],
   "source": [
    "# Splitting Data into Train and Test.\n",
    "x_train, x_test, y_train, y_test = train_test_split(x, y, shuffle = False)"
   ]
  },
  {
   "cell_type": "markdown",
   "metadata": {},
   "source": [
    "### Building the Network and training the data"
   ]
  },
  {
   "cell_type": "code",
   "execution_count": 9,
   "metadata": {},
   "outputs": [],
   "source": [
    "# Input layer with 28x28 nodes, 3 hidden layers with 512, 256, 128 nodes respectively and\n",
    "# output layer with 10 nodes corresponding to the 10 classes of digits, from 0 to 9.\n",
    "\n",
    "mlp = MLPClassifier(hidden_layer_sizes = (512, 256, 128), activation = 'logistic', alpha = 1e-4, solver = 'sgd',\n",
    "                    random_state = 1, learning_rate_init = 0.008, max_iter = 300, verbose = True)"
   ]
  },
  {
   "cell_type": "markdown",
   "metadata": {},
   "source": [
    "### Predicting with Test data"
   ]
  },
  {
   "cell_type": "code",
   "execution_count": 10,
   "metadata": {},
   "outputs": [
    {
     "name": "stdout",
     "output_type": "stream",
     "text": [
      "Iteration 1, loss = 3.65107119\n",
      "Iteration 2, loss = 3.24354712\n",
      "Iteration 3, loss = 3.22679395\n",
      "Iteration 4, loss = 3.21414329\n",
      "Iteration 5, loss = 3.19724162\n",
      "Iteration 6, loss = 3.17611734\n",
      "Iteration 7, loss = 3.14642694\n",
      "Iteration 8, loss = 3.10248437\n",
      "Iteration 9, loss = 3.03916493\n",
      "Iteration 10, loss = 2.94639446\n",
      "Iteration 11, loss = 2.81844746\n",
      "Iteration 12, loss = 2.66168496\n",
      "Iteration 13, loss = 2.48095111\n",
      "Iteration 14, loss = 2.28044963\n",
      "Iteration 15, loss = 2.08126047\n",
      "Iteration 16, loss = 1.90523523\n",
      "Iteration 17, loss = 1.75880956\n",
      "Iteration 18, loss = 1.64027579\n",
      "Iteration 19, loss = 1.54160919\n",
      "Iteration 20, loss = 1.45984904\n",
      "Iteration 21, loss = 1.38755356\n",
      "Iteration 22, loss = 1.32327279\n",
      "Iteration 23, loss = 1.26291550\n",
      "Iteration 24, loss = 1.20540959\n",
      "Iteration 25, loss = 1.14948110\n",
      "Iteration 26, loss = 1.09437591\n",
      "Iteration 27, loss = 1.04446878\n",
      "Iteration 28, loss = 0.98907636\n",
      "Iteration 29, loss = 0.93232860\n",
      "Iteration 30, loss = 0.88207885\n",
      "Iteration 31, loss = 0.83088355\n",
      "Iteration 32, loss = 0.78857314\n",
      "Iteration 33, loss = 0.74618581\n",
      "Iteration 34, loss = 0.70870779\n",
      "Iteration 35, loss = 0.67745438\n",
      "Iteration 36, loss = 0.64467753\n",
      "Iteration 37, loss = 0.62188192\n",
      "Iteration 38, loss = 0.59199284\n",
      "Iteration 39, loss = 0.56886658\n",
      "Iteration 40, loss = 0.54494650\n",
      "Iteration 41, loss = 0.52298455\n",
      "Iteration 42, loss = 0.50401060\n",
      "Iteration 43, loss = 0.48582063\n",
      "Iteration 44, loss = 0.47216256\n",
      "Iteration 45, loss = 0.45646197\n",
      "Iteration 46, loss = 0.43798925\n",
      "Iteration 47, loss = 0.42117011\n",
      "Iteration 48, loss = 0.40542130\n",
      "Iteration 49, loss = 0.39561976\n",
      "Iteration 50, loss = 0.37990604\n",
      "Iteration 51, loss = 0.36092313\n",
      "Iteration 52, loss = 0.35095308\n",
      "Iteration 53, loss = 0.34014555\n",
      "Iteration 54, loss = 0.33178443\n",
      "Iteration 55, loss = 0.32421247\n",
      "Iteration 56, loss = 0.30839719\n",
      "Iteration 57, loss = 0.30109538\n",
      "Iteration 58, loss = 0.28479234\n",
      "Iteration 59, loss = 0.27821454\n",
      "Iteration 60, loss = 0.26513004\n",
      "Iteration 61, loss = 0.25730984\n",
      "Iteration 62, loss = 0.25127787\n",
      "Iteration 63, loss = 0.24566911\n",
      "Iteration 64, loss = 0.23747332\n",
      "Iteration 65, loss = 0.23357395\n",
      "Iteration 66, loss = 0.22546531\n",
      "Iteration 67, loss = 0.21666353\n",
      "Iteration 68, loss = 0.20384592\n",
      "Iteration 69, loss = 0.19493987\n",
      "Iteration 70, loss = 0.19097666\n",
      "Iteration 71, loss = 0.18335250\n",
      "Iteration 72, loss = 0.17693553\n",
      "Iteration 73, loss = 0.17076586\n",
      "Iteration 74, loss = 0.16685211\n",
      "Iteration 75, loss = 0.16055753\n",
      "Iteration 76, loss = 0.15519785\n",
      "Iteration 77, loss = 0.14864468\n",
      "Iteration 78, loss = 0.14260861\n",
      "Iteration 79, loss = 0.13767929\n",
      "Iteration 80, loss = 0.13253693\n",
      "Iteration 81, loss = 0.12792576\n",
      "Iteration 82, loss = 0.12345859\n",
      "Iteration 83, loss = 0.11866164\n",
      "Iteration 84, loss = 0.11318873\n",
      "Iteration 85, loss = 0.11108142\n",
      "Iteration 86, loss = 0.10782550\n",
      "Iteration 87, loss = 0.10358537\n",
      "Iteration 88, loss = 0.10193863\n",
      "Iteration 89, loss = 0.09867538\n",
      "Iteration 90, loss = 0.09553100\n",
      "Iteration 91, loss = 0.09336080\n",
      "Iteration 92, loss = 0.09102303\n",
      "Iteration 93, loss = 0.08841526\n",
      "Iteration 94, loss = 0.08620646\n",
      "Iteration 95, loss = 0.08329139\n",
      "Iteration 96, loss = 0.08107144\n",
      "Iteration 97, loss = 0.07952044\n",
      "Iteration 98, loss = 0.07747266\n",
      "Iteration 99, loss = 0.07628399\n",
      "Iteration 100, loss = 0.07460230\n",
      "Iteration 101, loss = 0.07313190\n",
      "Iteration 102, loss = 0.07213190\n",
      "Iteration 103, loss = 0.07099492\n",
      "Iteration 104, loss = 0.06991554\n",
      "Iteration 105, loss = 0.06835958\n",
      "Iteration 106, loss = 0.06768181\n",
      "Iteration 107, loss = 0.06630709\n",
      "Iteration 108, loss = 0.06525069\n",
      "Iteration 109, loss = 0.06405248\n",
      "Iteration 110, loss = 0.06287546\n",
      "Iteration 111, loss = 0.06218942\n",
      "Iteration 112, loss = 0.06111323\n",
      "Iteration 113, loss = 0.06013021\n",
      "Iteration 114, loss = 0.05924562\n",
      "Iteration 115, loss = 0.05826159\n",
      "Iteration 116, loss = 0.05766899\n",
      "Iteration 117, loss = 0.05691048\n",
      "Iteration 118, loss = 0.05596447\n",
      "Iteration 119, loss = 0.05522099\n",
      "Iteration 120, loss = 0.05449178\n",
      "Iteration 121, loss = 0.05386169\n",
      "Iteration 122, loss = 0.05315374\n",
      "Iteration 123, loss = 0.05255113\n",
      "Iteration 124, loss = 0.05189609\n",
      "Iteration 125, loss = 0.05122956\n",
      "Iteration 126, loss = 0.05061485\n",
      "Iteration 127, loss = 0.05020907\n",
      "Iteration 128, loss = 0.04959281\n",
      "Iteration 129, loss = 0.04889036\n",
      "Iteration 130, loss = 0.04849978\n",
      "Iteration 131, loss = 0.04780074\n",
      "Iteration 132, loss = 0.04753489\n",
      "Iteration 133, loss = 0.04686514\n",
      "Iteration 134, loss = 0.04633474\n",
      "Iteration 135, loss = 0.04580800\n",
      "Iteration 136, loss = 0.04532842\n",
      "Iteration 137, loss = 0.04485492\n",
      "Iteration 138, loss = 0.04456245\n",
      "Iteration 139, loss = 0.04405267\n",
      "Iteration 140, loss = 0.04350079\n",
      "Iteration 141, loss = 0.04300661\n",
      "Iteration 142, loss = 0.04262650\n",
      "Iteration 143, loss = 0.04220992\n",
      "Iteration 144, loss = 0.04182221\n",
      "Iteration 145, loss = 0.04141232\n",
      "Iteration 146, loss = 0.04098942\n",
      "Iteration 147, loss = 0.04061695\n",
      "Iteration 148, loss = 0.04024865\n",
      "Iteration 149, loss = 0.03982030\n",
      "Iteration 150, loss = 0.03943394\n",
      "Iteration 151, loss = 0.03908037\n",
      "Iteration 152, loss = 0.03878762\n",
      "Iteration 153, loss = 0.03844676\n",
      "Iteration 154, loss = 0.03804739\n",
      "Iteration 155, loss = 0.03770893\n",
      "Iteration 156, loss = 0.03743353\n",
      "Iteration 157, loss = 0.03701446\n",
      "Iteration 158, loss = 0.03671617\n",
      "Iteration 159, loss = 0.03633978\n",
      "Iteration 160, loss = 0.03605019\n",
      "Iteration 161, loss = 0.03575456\n",
      "Iteration 162, loss = 0.03547315\n",
      "Iteration 163, loss = 0.03515915\n",
      "Iteration 164, loss = 0.03485588\n",
      "Iteration 165, loss = 0.03458347\n",
      "Iteration 166, loss = 0.03423779\n",
      "Iteration 167, loss = 0.03397987\n",
      "Iteration 168, loss = 0.03370914\n",
      "Iteration 169, loss = 0.03340305\n",
      "Iteration 170, loss = 0.03313692\n",
      "Iteration 171, loss = 0.03288288\n",
      "Iteration 172, loss = 0.03259361\n",
      "Iteration 173, loss = 0.03236984\n",
      "Iteration 174, loss = 0.03209748\n",
      "Iteration 175, loss = 0.03182400\n",
      "Iteration 176, loss = 0.03157359\n",
      "Iteration 177, loss = 0.03132827\n",
      "Iteration 178, loss = 0.03109203\n",
      "Iteration 179, loss = 0.03084140\n",
      "Iteration 180, loss = 0.03060028\n",
      "Iteration 181, loss = 0.03037998\n",
      "Iteration 182, loss = 0.03022525\n",
      "Iteration 183, loss = 0.03019892\n",
      "Iteration 184, loss = 0.02986670\n",
      "Iteration 185, loss = 0.02963565\n",
      "Iteration 186, loss = 0.02940066\n",
      "Iteration 187, loss = 0.02916378\n",
      "Iteration 188, loss = 0.02894068\n",
      "Iteration 189, loss = 0.02874317\n",
      "Iteration 190, loss = 0.02849378\n",
      "Iteration 191, loss = 0.02829599\n",
      "Iteration 192, loss = 0.02805457\n",
      "Iteration 193, loss = 0.02784437\n",
      "Iteration 194, loss = 0.02764608\n",
      "Iteration 195, loss = 0.02748807\n",
      "Iteration 196, loss = 0.02724596\n",
      "Iteration 197, loss = 0.02705596\n",
      "Iteration 198, loss = 0.02689636\n",
      "Iteration 199, loss = 0.02673430\n",
      "Iteration 200, loss = 0.02651480\n",
      "Iteration 201, loss = 0.02633327\n",
      "Iteration 202, loss = 0.02614210\n",
      "Iteration 203, loss = 0.02593937\n",
      "Iteration 204, loss = 0.02581844\n",
      "Iteration 205, loss = 0.02558134\n",
      "Iteration 206, loss = 0.02541027\n",
      "Iteration 207, loss = 0.02524550\n",
      "Iteration 208, loss = 0.02508354\n",
      "Iteration 209, loss = 0.02491654\n",
      "Iteration 210, loss = 0.02475121\n",
      "Iteration 211, loss = 0.02461939\n",
      "Iteration 212, loss = 0.02443339\n",
      "Iteration 213, loss = 0.02424746\n",
      "Iteration 214, loss = 0.02409953\n",
      "Iteration 215, loss = 0.02393649\n",
      "Iteration 216, loss = 0.02380678\n",
      "Iteration 217, loss = 0.02361735\n",
      "Iteration 218, loss = 0.02346964\n",
      "Iteration 219, loss = 0.02333474\n",
      "Iteration 220, loss = 0.02318477\n",
      "Iteration 221, loss = 0.02300647\n",
      "Iteration 222, loss = 0.02292230\n",
      "Iteration 223, loss = 0.02276510\n",
      "Iteration 224, loss = 0.02260065\n",
      "Iteration 225, loss = 0.02242914\n",
      "Iteration 226, loss = 0.02231219\n",
      "Iteration 227, loss = 0.02213254\n",
      "Iteration 228, loss = 0.02199681\n",
      "Iteration 229, loss = 0.02185995\n",
      "Iteration 230, loss = 0.02171696\n",
      "Iteration 231, loss = 0.02154645\n",
      "Iteration 232, loss = 0.02143948\n",
      "Iteration 233, loss = 0.02130221\n",
      "Iteration 234, loss = 0.02116632\n",
      "Iteration 235, loss = 0.02101344\n",
      "Iteration 236, loss = 0.02088268\n",
      "Iteration 237, loss = 0.02077669\n",
      "Iteration 238, loss = 0.02063299\n",
      "Iteration 239, loss = 0.02047896\n",
      "Iteration 240, loss = 0.02037954\n",
      "Iteration 241, loss = 0.02026619\n",
      "Iteration 242, loss = 0.02010670\n",
      "Iteration 243, loss = 0.01997641\n",
      "Iteration 244, loss = 0.01986568\n",
      "Iteration 245, loss = 0.01973974\n",
      "Iteration 246, loss = 0.01962358\n",
      "Iteration 247, loss = 0.01950780\n",
      "Iteration 248, loss = 0.01938175\n",
      "Iteration 249, loss = 0.01927900\n",
      "Iteration 250, loss = 0.01915903\n",
      "Iteration 251, loss = 0.01907711\n",
      "Iteration 252, loss = 0.01895601\n"
     ]
    },
    {
     "name": "stdout",
     "output_type": "stream",
     "text": [
      "Iteration 253, loss = 0.01882664\n",
      "Iteration 254, loss = 0.01871648\n",
      "Iteration 255, loss = 0.01860966\n",
      "Iteration 256, loss = 0.01850876\n",
      "Iteration 257, loss = 0.01839013\n",
      "Iteration 258, loss = 0.01827442\n",
      "Iteration 259, loss = 0.01817840\n",
      "Iteration 260, loss = 0.01806679\n",
      "Iteration 261, loss = 0.01796825\n",
      "Iteration 262, loss = 0.01783827\n",
      "Iteration 263, loss = 0.01775857\n",
      "Iteration 264, loss = 0.01765893\n",
      "Iteration 265, loss = 0.01755942\n",
      "Iteration 266, loss = 0.01745306\n",
      "Iteration 267, loss = 0.01736009\n",
      "Iteration 268, loss = 0.01725461\n",
      "Iteration 269, loss = 0.01717187\n",
      "Iteration 270, loss = 0.01706713\n",
      "Iteration 271, loss = 0.01694686\n",
      "Iteration 272, loss = 0.01691838\n",
      "Iteration 273, loss = 0.01677046\n",
      "Iteration 274, loss = 0.01666890\n",
      "Iteration 275, loss = 0.01658597\n",
      "Iteration 276, loss = 0.01647593\n",
      "Iteration 277, loss = 0.01638373\n",
      "Iteration 278, loss = 0.01629522\n",
      "Iteration 279, loss = 0.01620145\n",
      "Iteration 280, loss = 0.01611756\n",
      "Iteration 281, loss = 0.01603054\n",
      "Iteration 282, loss = 0.01593624\n",
      "Iteration 283, loss = 0.01584755\n",
      "Iteration 284, loss = 0.01575790\n",
      "Iteration 285, loss = 0.01565693\n",
      "Iteration 286, loss = 0.01556746\n",
      "Iteration 287, loss = 0.01547107\n",
      "Iteration 288, loss = 0.01540297\n",
      "Iteration 289, loss = 0.01530741\n",
      "Iteration 290, loss = 0.01521897\n",
      "Iteration 291, loss = 0.01514511\n",
      "Iteration 292, loss = 0.01505307\n",
      "Iteration 293, loss = 0.01496803\n",
      "Iteration 294, loss = 0.01487395\n",
      "Iteration 295, loss = 0.01481089\n",
      "Iteration 296, loss = 0.01472871\n",
      "Training loss did not improve more than tol=0.000100 for 10 consecutive epochs. Stopping.\n"
     ]
    },
    {
     "data": {
      "text/plain": [
       "MLPClassifier(activation='logistic', hidden_layer_sizes=(512, 256, 128),\n",
       "              learning_rate_init=0.008, max_iter=300, random_state=1,\n",
       "              solver='sgd', verbose=True)"
      ]
     },
     "execution_count": 10,
     "metadata": {},
     "output_type": "execute_result"
    }
   ],
   "source": [
    "mlp.fit(x_train, y_train)"
   ]
  },
  {
   "cell_type": "code",
   "execution_count": 11,
   "metadata": {},
   "outputs": [
    {
     "data": {
      "text/plain": [
       "Text(0.5, 1.0, 'Loss')"
      ]
     },
     "execution_count": 11,
     "metadata": {},
     "output_type": "execute_result"
    },
    {
     "data": {
      "image/png": "[encoded data removed]",
      "text/plain": [
       "<Figure size 432x288 with 1 Axes>"
      ]
     },
     "metadata": {
      "needs_background": "light"
     },
     "output_type": "display_data"
    }
   ],
   "source": [
    "plt.plot(mlp.loss_curve_)\n",
    "plt.ylabel('Loss', fontsize = 12)\n",
    "plt.xlabel('Epoch', fontsize = 12)\n",
    "plt.title('Loss', fontsize = 16)"
   ]
  },
  {
   "cell_type": "code",
   "execution_count": 12,
   "metadata": {},
   "outputs": [
    {
     "data": {
      "text/plain": [
       "0.909"
      ]
     },
     "execution_count": 12,
     "metadata": {},
     "output_type": "execute_result"
    }
   ],
   "source": [
    "accuracy_score(y_test, mlp.predict(x_test))"
   ]
  },
  {
   "cell_type": "markdown",
   "metadata": {},
   "source": [
    "### Importing the model into Pickle file"
   ]
  },
  {
   "cell_type": "code",
   "execution_count": 13,
   "metadata": {},
   "outputs": [],
   "source": [
    "pickle.dump(mlp, open('model.pkl', 'wb'))"
   ]
  },
  {
   "cell_type": "code",
   "execution_count": null,
   "metadata": {},
   "outputs": [],
   "source": []
  }
 ],
 "metadata": {
  "kernelspec": {
   "display_name": "Python 3",
   "language": "python",
   "name": "python3"
  },
  "language_info": {
   "codemirror_mode": {
    "name": "ipython",
    "version": 3
   },
   "file_extension": ".py",
   "mimetype": "text/x-python",
   "name": "python",
   "nbconvert_exporter": "python",
   "pygments_lexer": "ipython3",
   "version": "3.8.0"
  }
 },
 "nbformat": 4,
 "nbformat_minor": 4
}
